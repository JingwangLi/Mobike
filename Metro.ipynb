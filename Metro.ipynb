{
 "cells": [
  {
   "cell_type": "code",
   "execution_count": null,
   "metadata": {
    "collapsed": true
   },
   "outputs": [],
   "source": [
    "import os\n",
    "import numpy as np\n",
    "import pandas as pd\n",
    "\n",
    "# test_path = 'E:\\\\data\\\\Metro\\\\Metro_testA\\\\testA_record_2019-01-28.csv'\n",
    "train_path = 'E:\\\\data\\\\Metro\\\\Metro_train\\\\'\n",
    "file_list = os.listdir(train_path)\n",
    "\n",
    "for file in file_list:\n",
    "    data = pd.read_csv(train_path + file)\n",
    "#     data.info()\n",
    "    data = data.sort_values(by=['stationID', 'time'], ascending='true')\n",
    "\n",
    "    data['clock'] = data['time'].apply(lambda x: int(x.split()[1].split(':')[0]))\n",
    "    data['minute'] = data['time'].apply(lambda x: int(x.split()[1].split(':')[1]))\n",
    "\n",
    "    result = pd.DataFrame(columns=['stationID', 'clock', 'minute', 'inNums', 'outNums'])\n",
    "    for ID in range(0, 81):\n",
    "        for clock in range(0, 24):\n",
    "            for minute in range(0, 60, 10):\n",
    "                status = data[(data['stationID'] == ID) & (data['clock'] == clock) & (data['minute'] >= minute) & (data['minute'] < minute+10)]['status'];\n",
    "                result.loc[len(result)] = [ID, clock, minute, status.sum(), len(status)-status.sum()]\n",
    "                print(result.loc[len(result)-1])\n",
    "\n",
    "    result.to_csv('E:\\\\data\\\\Metro\\\\Metro_testA\\\\%s_flow.csv' % file, encoding='utf8')\n",
    "\n"
   ]
  },
  {
   "cell_type": "code",
   "execution_count": null,
   "metadata": {
    "collapsed": true
   },
   "outputs": [],
   "source": []
  },
  {
   "cell_type": "code",
   "execution_count": null,
   "metadata": {},
   "outputs": [],
   "source": [
    "import os\n",
    "import numpy as np\n",
    "import pandas as pd\n",
    "test_path = 'E:\\\\data\\\\Metro\\\\Metro_testA\\\\'\n",
    "f = os.listdir(test_path)\n",
    "# for i in f:\n",
    "#     if i[0] != 'r': continue\n",
    "#     oname = test_path + i\n",
    "#     nname = test_path + i.split('.')[0].split('_')[1] + '_flow.csv'\n",
    "#     os.rename(oname, nname)\n",
    "\n",
    "except_list = ['01', '05', '06', '12', '13', '19', '20']\n",
    "submit = pd.read_csv(test_path + \"testA_submit_2019-01-29.csv\")\n",
    "cnt = 0\n",
    "for i in f:\n",
    "    if i[0] != '2' or i.split('_')[0].split('-')[2] in except_list: continue\n",
    "    print(i)\n",
    "    result = pd.read_csv(test_path + i)\n",
    "    if cnt != 0:\n",
    "        submit['inNums'] += result['inNums']\n",
    "        submit['outNums'] += result['outNums']\n",
    "    else:\n",
    "        submit['inNums'] = result['inNums']\n",
    "        submit['outNums'] = result['outNums']\n",
    "    cnt += 1\n",
    "\n",
    "print(cnt)\n",
    "submit['inNums'] /= cnt\n",
    "submit['outNums'] /= cnt\n",
    "submit.info()\n",
    "submit.to_csv(\"testA_submit_2019-01-xx.csv\", index=False, encoding='utf8')\n",
    "submit"
   ]
  }
 ],
 "metadata": {
  "kernelspec": {
   "display_name": "Python 3",
   "language": "python",
   "name": "python3"
  },
  "language_info": {
   "codemirror_mode": {
    "name": "ipython",
    "version": 3
   },
   "file_extension": ".py",
   "mimetype": "text/x-python",
   "name": "python",
   "nbconvert_exporter": "python",
   "pygments_lexer": "ipython3",
   "version": "3.6.2"
  }
 },
 "nbformat": 4,
 "nbformat_minor": 2
}
